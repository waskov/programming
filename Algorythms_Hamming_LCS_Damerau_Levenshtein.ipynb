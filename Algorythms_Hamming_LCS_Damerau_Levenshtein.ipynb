{
 "cells": [
  {
   "cell_type": "code",
   "execution_count": 1,
   "metadata": {},
   "outputs": [],
   "source": [
    "import numpy as np\n",
    "import pandas as pd\n",
    "import matplotlib.pyplot as plt\n",
    "import seaborn as sns"
   ]
  },
  {
   "cell_type": "code",
   "execution_count": 2,
   "metadata": {},
   "outputs": [],
   "source": [
    "def printing_matrix(string1, string2, lenstr1, lenstr2, F):\n",
    "    print('  ', end = \"\")        \n",
    "    for j in range(lenstr2):\n",
    "        print(\"\\033[32m {}\".format(string2[j]), end = \"\")\n",
    "    for i in range(lenstr1):\n",
    "        print('')\n",
    "        print(\"\\033[32m {}\".format(string1[i]), end=\"\") \n",
    "        for j in range(lenstr2):\n",
    "            if string1[i] == string2[j]:\n",
    "                print(\"\\033[31m {}\".format(F[i+1][j+1]), end = \"\")\n",
    "            else:\n",
    "                print(\"\\033[34m {}\".format(F[i+1][j+1]), end = \"\")\n",
    "               \n",
    "\n",
    "    print('  ')"
   ]
  },
  {
   "cell_type": "markdown",
   "metadata": {},
   "source": [
    "## Hamming distance"
   ]
  },
  {
   "cell_type": "code",
   "execution_count": 3,
   "metadata": {},
   "outputs": [],
   "source": [
    "def hamming_distance(string1, string2):\n",
    "    distance = 0\n",
    "    L = len(string1)\n",
    "    for i in range(L):\n",
    "        if string1[i] != string2[i]:\n",
    "            distance += 1\n",
    "    print('Расстояние Хемминга:',distance)\n",
    "        \n",
    "    return distance"
   ]
  },
  {
   "cell_type": "code",
   "execution_count": 4,
   "metadata": {},
   "outputs": [
    {
     "name": "stdout",
     "output_type": "stream",
     "text": [
      "Расстояние Хемминга: 2\n"
     ]
    },
    {
     "data": {
      "text/plain": [
       "2"
      ]
     },
     "execution_count": 4,
     "metadata": {},
     "output_type": "execute_result"
    }
   ],
   "source": [
    "hamming_distance('12354', '12453')"
   ]
  },
  {
   "cell_type": "markdown",
   "metadata": {},
   "source": [
    "## Longest common subsequence problem"
   ]
  },
  {
   "cell_type": "code",
   "execution_count": 5,
   "metadata": {},
   "outputs": [],
   "source": [
    "# Longest common subsequence problem\n",
    "def LCS(string1, string2):\n",
    "    n = len(string1)\n",
    "    m = len(string2)\n",
    "    F = [[0] * (m + 1) for i in range(n + 1)]\n",
    "    for i in range(1, n + 1):\n",
    "        for j in range(1, m + 1):\n",
    "            if string1[i - 1] == string2[j - 1]:\n",
    "                F[i][j] = F[i - 1][j - 1] + 1 \n",
    "            else: \n",
    "                F[i][j] = max(F[i - 1][j], F[i][j - 1]) \n",
    "    print(F[n][m])\n",
    "    print(np.matrix(F))\n",
    "\n",
    "    Ans = []\n",
    "    i = n\n",
    "    j = m\n",
    "    while i > 0 and j > 0:\n",
    "        if string1[i - 1] == string2[j - 1]:\n",
    "            Ans.append(string1[i - 1])\n",
    "            i -= 1\n",
    "            j -= 1\n",
    "        elif F[i - 1][j] == F[i][j]:\n",
    "            i -= 1 \n",
    "        else: \n",
    "            j -= 1\n",
    "     \n",
    "    Ans = Ans[::-1]\n",
    "    return(Ans)"
   ]
  },
  {
   "cell_type": "code",
   "execution_count": 6,
   "metadata": {},
   "outputs": [
    {
     "name": "stdout",
     "output_type": "stream",
     "text": [
      "2\n",
      "[[0 0 0 0 0]\n",
      " [0 1 1 1 1]\n",
      " [0 1 1 1 1]\n",
      " [0 1 1 1 1]\n",
      " [0 1 1 1 2]]\n"
     ]
    },
    {
     "data": {
      "text/plain": [
       "['a', 'f']"
      ]
     },
     "execution_count": 6,
     "metadata": {},
     "output_type": "execute_result"
    }
   ],
   "source": [
    "LCS('asdf','a23f')"
   ]
  },
  {
   "cell_type": "markdown",
   "metadata": {},
   "source": [
    "## Levenshtain distance"
   ]
  },
  {
   "cell_type": "code",
   "execution_count": 7,
   "metadata": {},
   "outputs": [],
   "source": [
    "# Levenshtain\n",
    "def Levenshtain(string1, string2):\n",
    "    # String1 and string2 are sequences.\n",
    "    lenstr1 = len(string1)\n",
    "    lenstr2 = len(string2)\n",
    "    F = [[0] * (lenstr2 + 1) for i in range(lenstr1 + 1)]\n",
    "    \n",
    "    # Filling in a zero column and row.\n",
    "    for i in range(1,lenstr1+1):\n",
    "        F[i][0] = i\n",
    "    for j in range(1,lenstr2+1):\n",
    "        F[0][j] = j\n",
    "        \n",
    "    # Filling in the matrix\n",
    "    for i in range(lenstr1):\n",
    "        for j in range(lenstr2):\n",
    "            if string1[i] == string2[j]:\n",
    "                cost = 0\n",
    "            else:\n",
    "                cost = 1\n",
    "            F[i+1][j+1] = min(F[i][j+1] + 1,  # deletion\n",
    "                              F[i+1][j] + 1,  # insert\n",
    "                              F[i][j] + cost)  # change\n",
    "                \n",
    "    # Print the matrix with red colour for matching elements, green colour for sequenses, blue colour for others.    \n",
    "    printing_matrix(string1, string2, lenstr1, lenstr2, F)\n",
    "    return(F[lenstr1][lenstr2])\n"
   ]
  },
  {
   "cell_type": "code",
   "execution_count": 8,
   "metadata": {},
   "outputs": [
    {
     "name": "stdout",
     "output_type": "stream",
     "text": [
      "  \u001b[32m d\u001b[32m a\u001b[32m 1\u001b[32m f\n",
      "\u001b[32m a\u001b[34m 1\u001b[31m 1\u001b[34m 2\u001b[34m 3\n",
      "\u001b[32m d\u001b[31m 1\u001b[34m 2\u001b[34m 2\u001b[34m 3\n",
      "\u001b[32m s\u001b[34m 2\u001b[34m 2\u001b[34m 3\u001b[34m 3\n",
      "\u001b[32m f\u001b[34m 3\u001b[34m 3\u001b[34m 3\u001b[31m 3  \n"
     ]
    },
    {
     "data": {
      "text/plain": [
       "3"
      ]
     },
     "execution_count": 8,
     "metadata": {},
     "output_type": "execute_result"
    }
   ],
   "source": [
    "Levenshtain('adsf','da1f')"
   ]
  },
  {
   "cell_type": "markdown",
   "metadata": {},
   "source": [
    "## Damerau-Levenshtain distance"
   ]
  },
  {
   "cell_type": "code",
   "execution_count": 9,
   "metadata": {},
   "outputs": [],
   "source": [
    "# Damerau-Levenshtain\n",
    "def DL(string1, string2):\n",
    "    # String1 and string2 are sequences.\n",
    "    lenstr1 = len(string1)\n",
    "    lenstr2 = len(string2)\n",
    "    F = [[0] * (lenstr2 + 1) for i in range(lenstr1 + 1)]\n",
    "    \n",
    "    # Filling in a zero column and row.\n",
    "    for i in range(1,lenstr1+1):\n",
    "        F[i][0] = i\n",
    "    for j in range(1,lenstr2+1):\n",
    "        F[0][j] = j\n",
    "        \n",
    "    # Filling in the matrix\n",
    "    for i in range(lenstr1):\n",
    "        for j in range(lenstr2):\n",
    "            if string1[i] == string2[j]:\n",
    "                cost = 0\n",
    "            else:\n",
    "                cost = 1\n",
    "            F[i+1][j+1] = min(F[i][j+1] + 1,  # deletion\n",
    "                              F[i+1][j] + 1,  # insert\n",
    "                              F[i][j] + cost)  # change\n",
    "            \n",
    "            # After count of minimum with deletion, insert and change try to find transposition.             \n",
    "            if i > 0 and j > 0 and string1[i] == string2[j-1] and string1[i-1] == string2[j]:\n",
    "                F[i+1][j+1] = min (F[i+1][j+1], F[i-1][j-1] + cost)  # minimum of deletion, insert, change and transposition\n",
    "              \n",
    "                \n",
    "    # Print the matrix with red colour for matching elements, green colour for sequenses, blue colour for others.    \n",
    "    printing_matrix(string1, string2, lenstr1, lenstr2, F)\n",
    "    return(F[lenstr1][lenstr2])\n"
   ]
  },
  {
   "cell_type": "code",
   "execution_count": 10,
   "metadata": {},
   "outputs": [
    {
     "name": "stdout",
     "output_type": "stream",
     "text": [
      "  \u001b[32m d\u001b[32m a\u001b[32m 1\u001b[32m f\n",
      "\u001b[32m a\u001b[34m 1\u001b[31m 1\u001b[34m 2\u001b[34m 3\n",
      "\u001b[32m d\u001b[31m 1\u001b[34m 1\u001b[34m 2\u001b[34m 3\n",
      "\u001b[32m s\u001b[34m 2\u001b[34m 2\u001b[34m 2\u001b[34m 3\n",
      "\u001b[32m f\u001b[34m 3\u001b[34m 3\u001b[34m 3\u001b[31m 2  \n"
     ]
    },
    {
     "data": {
      "text/plain": [
       "2"
      ]
     },
     "execution_count": 10,
     "metadata": {},
     "output_type": "execute_result"
    }
   ],
   "source": [
    "DL('adsf','da1f')"
   ]
  },
  {
   "cell_type": "markdown",
   "metadata": {},
   "source": [
    "## Damerau-Levenshtain with symmetric parametrizion"
   ]
  },
  {
   "cell_type": "code",
   "execution_count": 11,
   "metadata": {},
   "outputs": [],
   "source": [
    "def DL_parameter_symmetric(string1: str,\n",
    "                           string2: str,\n",
    "                           a: int = 10):\n",
    "    # String1 and string2 are sequences, parameter a means counts of maximum elements between. \n",
    "    lenstr1 = len(string1)\n",
    "    lenstr2 = len(string2)\n",
    "    F = [[0] * (lenstr2 + 1) for i in range(lenstr1 + 1)]\n",
    "    \n",
    "    # Filling in a zero column and row.\n",
    "    for i in range(1,lenstr1+1):\n",
    "        F[i][0] = i\n",
    "    for j in range(1,lenstr2+1):\n",
    "        F[0][j] = j\n",
    "        \n",
    "    # Filling in the matrix\n",
    "    for i in range(lenstr1):\n",
    "        for j in range(lenstr2):\n",
    "            if string1[i] == string2[j]:\n",
    "                cost = 0\n",
    "            else:\n",
    "                cost=1\n",
    "            F[i+1][j+1] = min(F[i][j+1] + 1,  # deletion\n",
    "                              F[i+1][j] + 1,  # insert\n",
    "                              F[i][j] + cost)  # change\n",
    "            \n",
    "            # After count of minimum with deletion, insert and change try to find transpositions: \n",
    "            # try to find i-element in string1 in string2 and j-element in string2 in string1 with maximum a-steps. \n",
    "            # If find parameter a call recursive this function for elements between transposion elements.                  \n",
    "            for a in range(1, a+1):\n",
    "                if i > a-1 and j > a-1 and string1[i] == string2[j-a] and string1[i-a] == string2[j]:\n",
    "                    distance = DL_parameter_symmetric(string1[i-a+1:i], string2[j-a+1:j], a)  # call recursive\n",
    "                    F[i+1][j+1] = min (F[i+1][j+1], F[i-a][j-a] + 1 + distance)  # minimum of deletion, insert, change and transposition\n",
    "                     \n",
    "    # Print the matrix with red colour for matching elements, green colour for sequenses, blue colour for others.           \n",
    "    #print(np.matrix(F))    \n",
    "    printing_matrix(string1, string2, lenstr1, lenstr2, F)\n",
    "    return(F[lenstr1][lenstr2])"
   ]
  },
  {
   "cell_type": "code",
   "execution_count": 12,
   "metadata": {},
   "outputs": [
    {
     "name": "stdout",
     "output_type": "stream",
     "text": [
      "    \n",
      "    \n",
      "  \u001b[32m d\u001b[32m s\u001b[32m s\u001b[32m a\u001b[32m f\n",
      "\u001b[32m a\u001b[34m 1\u001b[34m 2\u001b[34m 3\u001b[31m 3\u001b[34m 4\n",
      "\u001b[32m s\u001b[34m 2\u001b[31m 1\u001b[31m 2\u001b[34m 3\u001b[34m 4\n",
      "\u001b[32m d\u001b[31m 2\u001b[34m 2\u001b[34m 2\u001b[34m 3\u001b[34m 4\n",
      "\u001b[32m f\u001b[34m 3\u001b[34m 3\u001b[34m 3\u001b[34m 3\u001b[31m 3  \n",
      "    \n",
      "    \n",
      "  \u001b[32m s\n",
      "\u001b[32m s\u001b[31m 0  \n",
      "  \u001b[32m d\u001b[32m s\u001b[32m a\u001b[32m f\n",
      "\u001b[32m a\u001b[34m 1\u001b[34m 2\u001b[31m 2\u001b[34m 3\n",
      "\u001b[32m s\u001b[34m 2\u001b[31m 1\u001b[34m 2\u001b[34m 3\n",
      "\u001b[32m d\u001b[31m 2\u001b[34m 2\u001b[34m 1\u001b[34m 2\n",
      "\u001b[32m f\u001b[34m 3\u001b[34m 3\u001b[34m 2\u001b[31m 1  \n"
     ]
    },
    {
     "data": {
      "text/plain": [
       "1"
      ]
     },
     "execution_count": 12,
     "metadata": {},
     "output_type": "execute_result"
    }
   ],
   "source": [
    "DL_parameter_symmetric('asdf','dssaf')\n",
    "DL_parameter_symmetric('asdf','dsaf')"
   ]
  },
  {
   "cell_type": "markdown",
   "metadata": {},
   "source": [
    "## Damerau-Levenshtein with asymmetric parametrizion"
   ]
  },
  {
   "cell_type": "code",
   "execution_count": 13,
   "metadata": {},
   "outputs": [],
   "source": [
    "from typing import Optional\n",
    "\n",
    "def DL_parameter(string1: str,\n",
    "                 string2: str,\n",
    "                 a: int = 10,\n",
    "                 b: Optional[int] = None):    \n",
    "    if b is None:\n",
    "        b = a\n",
    "    # String1 and string2 are sequences, parameters a and b mean counts of maximum elements between. \n",
    "   \n",
    "    lenstr1 = len(string1)\n",
    "    lenstr2 = len(string2)\n",
    "    F = [[0] * (lenstr2 + 1) for i in range(lenstr1 + 1)]\n",
    "    \n",
    "    # Filling in a zero column and row.\n",
    "    for i in range(1,lenstr1+1):\n",
    "        F[i][0] = i\n",
    "    for j in range(1,lenstr2+1):\n",
    "        F[0][j] = j\n",
    "        \n",
    "    # Filling in the matrix\n",
    "    for i in range(lenstr1):\n",
    "        for j in range(lenstr2):\n",
    "            if string1[i] == string2[j]:\n",
    "                cost = 0\n",
    "            else:\n",
    "                cost=1\n",
    "            F[i+1][j+1] = min(F[i][j+1] + 1,  # deletion\n",
    "                              F[i+1][j] + 1,  # insert\n",
    "                              F[i][j] + cost)  # change\n",
    "                             \n",
    "            # After count of minimum with deletion, insert and change try to find transpositions: \n",
    "            # first try to find i-element in string1 in string2 with maximum a-steps,\n",
    "            # second try to find j-element in string2 in string1 with maximum b-steps. \n",
    "            # If find parameters a and b call recursive this function for elements between transposion elements.\n",
    "            \n",
    "            for a in range(1,a+1):\n",
    "                if j > a-1 and string1[i] == string2[j-a]:  \n",
    "                    for b in range(1,b+1):\n",
    "                        if i > b-1 and string2[j] == string1[i-b]:\n",
    "                            distance = DL_parameter(string1[i-b+1:i], string2[j-a+1:j], a, b)  # call recursive\n",
    "                            F[i+1][j+1] = min (F[i+1][j+1], F[i-b][j-a] + 1 + distance)  # minimum of deletion, insert, change and transposition\n",
    "                            \n",
    "    # Print the matrix with red colour for matching elements, green colour for sequenses, blue colour for others.  \n",
    "    printing_matrix(string1, string2, lenstr1, lenstr2, F)  \n",
    "    return(F[lenstr1][lenstr2])"
   ]
  },
  {
   "cell_type": "code",
   "execution_count": 14,
   "metadata": {},
   "outputs": [
    {
     "name": "stdout",
     "output_type": "stream",
     "text": [
      "    \n",
      "  \u001b[32m s  \n",
      "    \n",
      "  \u001b[32m s  \n",
      "  \u001b[32m s\u001b[32m s\n",
      "\u001b[32m s\u001b[31m 0\u001b[31m 1  \n",
      "  \u001b[32m d\u001b[32m s\u001b[32m s\u001b[32m a\u001b[32m f\n",
      "\u001b[32m a\u001b[34m 1\u001b[34m 2\u001b[34m 3\u001b[31m 3\u001b[34m 4\n",
      "\u001b[32m s\u001b[34m 2\u001b[31m 1\u001b[31m 2\u001b[34m 3\u001b[34m 4\n",
      "\u001b[32m d\u001b[31m 2\u001b[34m 2\u001b[34m 2\u001b[34m 2\u001b[34m 3\n",
      "\u001b[32m f\u001b[34m 3\u001b[34m 3\u001b[34m 3\u001b[34m 3\u001b[31m 2  \n",
      "    \n",
      "    \n",
      "  \u001b[32m s\n",
      "\u001b[32m s\u001b[31m 0  \n",
      "  \u001b[32m d\u001b[32m s\u001b[32m a\u001b[32m f\n",
      "\u001b[32m a\u001b[34m 1\u001b[34m 2\u001b[31m 2\u001b[34m 3\n",
      "\u001b[32m s\u001b[34m 2\u001b[31m 1\u001b[34m 2\u001b[34m 3\n",
      "\u001b[32m d\u001b[31m 2\u001b[34m 2\u001b[34m 1\u001b[34m 2\n",
      "\u001b[32m f\u001b[34m 3\u001b[34m 3\u001b[34m 2\u001b[31m 1  \n"
     ]
    },
    {
     "data": {
      "text/plain": [
       "1"
      ]
     },
     "execution_count": 14,
     "metadata": {},
     "output_type": "execute_result"
    }
   ],
   "source": [
    "DL_parameter('asdf','dssaf')\n",
    "DL_parameter('asdf','dsaf')"
   ]
  },
  {
   "cell_type": "code",
   "execution_count": null,
   "metadata": {},
   "outputs": [],
   "source": [
    "\n"
   ]
  },
  {
   "cell_type": "code",
   "execution_count": 16,
   "metadata": {},
   "outputs": [
    {
     "name": "stdout",
     "output_type": "stream",
     "text": [
      "    \n",
      "  \u001b[32m 0  \n",
      "  \u001b[32m 0\u001b[32m 8\n",
      "\u001b[32m 8\u001b[34m 1\u001b[31m 1  \n",
      "    \n",
      "  \u001b[32m 7\u001b[32m 0\n",
      "\u001b[32m 7\u001b[31m 0\u001b[34m 1  \n",
      "  \u001b[32m 0  \n",
      "  \u001b[32m 7\u001b[32m 0\u001b[32m 8\n",
      "\u001b[32m 8\u001b[34m 1\u001b[34m 2\u001b[31m 2\n",
      "\u001b[32m 7\u001b[31m 1\u001b[34m 2\u001b[34m 2  \n",
      "  \u001b[32m x\u001b[32m 2\u001b[32m 7\u001b[32m 0\u001b[32m 8\u001b[32m 1\n",
      "\u001b[32m x\u001b[31m 0\u001b[34m 1\u001b[34m 2\u001b[34m 3\u001b[34m 4\u001b[34m 5\n",
      "\u001b[32m 1\u001b[34m 1\u001b[34m 1\u001b[34m 2\u001b[34m 3\u001b[34m 4\u001b[31m 4\n",
      "\u001b[32m 8\u001b[34m 2\u001b[34m 2\u001b[34m 2\u001b[34m 3\u001b[31m 3\u001b[34m 4\n",
      "\u001b[32m 7\u001b[34m 3\u001b[34m 3\u001b[31m 2\u001b[34m 3\u001b[34m 3\u001b[34m 3\n",
      "\u001b[32m 2\u001b[34m 4\u001b[31m 3\u001b[34m 3\u001b[34m 3\u001b[34m 3\u001b[34m 3  \n",
      "    \n",
      "    \n",
      "  \u001b[32m x\u001b[32m 2\u001b[32m 7\u001b[32m 0\u001b[32m 8\u001b[32m 1\n",
      "\u001b[32m x\u001b[31m 0\u001b[34m 1\u001b[34m 2\u001b[34m 3\u001b[34m 4\u001b[34m 5\n",
      "\u001b[32m 1\u001b[34m 1\u001b[34m 1\u001b[34m 2\u001b[34m 3\u001b[34m 4\u001b[31m 4\n",
      "\u001b[32m 8\u001b[34m 2\u001b[34m 2\u001b[34m 2\u001b[34m 3\u001b[31m 3\u001b[34m 4\n",
      "\u001b[32m 7\u001b[34m 3\u001b[34m 3\u001b[31m 2\u001b[34m 3\u001b[34m 4\u001b[34m 4\n",
      "\u001b[32m 2\u001b[34m 4\u001b[31m 3\u001b[34m 3\u001b[34m 3\u001b[34m 4\u001b[34m 5  \n",
      "  \u001b[32m x\u001b[32m 2\u001b[32m 7\u001b[32m 0\u001b[32m 8\u001b[32m 1\n",
      "\u001b[32m x\u001b[31m 0\u001b[34m 1\u001b[34m 2\u001b[34m 3\u001b[34m 4\u001b[34m 5\n",
      "\u001b[32m 1\u001b[34m 1\u001b[34m 1\u001b[34m 2\u001b[34m 3\u001b[34m 4\u001b[31m 4\n",
      "\u001b[32m 8\u001b[34m 2\u001b[34m 2\u001b[34m 2\u001b[34m 3\u001b[31m 3\u001b[34m 4\n",
      "\u001b[32m 7\u001b[34m 3\u001b[34m 3\u001b[31m 2\u001b[34m 3\u001b[34m 4\u001b[34m 4\n",
      "\u001b[32m 2\u001b[34m 4\u001b[31m 3\u001b[34m 3\u001b[34m 3\u001b[34m 4\u001b[34m 5  \n",
      "  \u001b[32m x\u001b[32m 2\u001b[32m 7\u001b[32m 0\u001b[32m 8\u001b[32m 1\n",
      "\u001b[32m x\u001b[31m 0\u001b[34m 1\u001b[34m 2\u001b[34m 3\u001b[34m 4\u001b[34m 5\n",
      "\u001b[32m 1\u001b[34m 1\u001b[34m 1\u001b[34m 2\u001b[34m 3\u001b[34m 4\u001b[31m 4\n",
      "\u001b[32m 8\u001b[34m 2\u001b[34m 2\u001b[34m 2\u001b[34m 3\u001b[31m 3\u001b[34m 4\n",
      "\u001b[32m 7\u001b[34m 3\u001b[34m 3\u001b[31m 2\u001b[34m 3\u001b[34m 4\u001b[34m 4\n",
      "\u001b[32m 2\u001b[34m 4\u001b[31m 3\u001b[34m 3\u001b[34m 3\u001b[34m 4\u001b[34m 5  \n",
      "Wall time: 29.6 ms\n"
     ]
    },
    {
     "data": {
      "text/plain": [
       "5"
      ]
     },
     "execution_count": 16,
     "metadata": {},
     "output_type": "execute_result"
    }
   ],
   "source": [
    "%%time\n",
    "    \n",
    "DL_parameter('x1872','x27081')\n",
    "DL_parameter_symmetric('x1872','x27081')\n",
    "DL('x1872','x27081')\n",
    "Levenshtain('x1872','x27081')\n",
    "\n"
   ]
  },
  {
   "cell_type": "code",
   "execution_count": 17,
   "metadata": {},
   "outputs": [
    {
     "name": "stdout",
     "output_type": "stream",
     "text": [
      "    \n",
      "    \n",
      "  \u001b[32m 2\n",
      "\u001b[32m 2\u001b[31m 0  \n",
      "    \n",
      "  \u001b[32m 3\n",
      "\u001b[32m 3\u001b[31m 0  \n",
      "    \n",
      "  \u001b[32m 3\u001b[32m 2\n",
      "\u001b[32m 2\u001b[34m 1\u001b[31m 1\n",
      "\u001b[32m 3\u001b[31m 1\u001b[34m 1  \n",
      "    \n",
      "  \u001b[32m 4\n",
      "\u001b[32m 4\u001b[31m 0  \n",
      "    \n",
      "  \u001b[32m 4\u001b[32m 3\n",
      "\u001b[32m 3\u001b[34m 1\u001b[31m 1\n",
      "\u001b[32m 4\u001b[31m 1\u001b[34m 1  \n",
      "    \n",
      "    \n",
      "  \u001b[32m 3\n",
      "\u001b[32m 3\u001b[31m 0  \n",
      "  \u001b[32m 4\u001b[32m 3\u001b[32m 2\n",
      "\u001b[32m 2\u001b[34m 1\u001b[34m 2\u001b[31m 2\n",
      "\u001b[32m 3\u001b[34m 2\u001b[31m 1\u001b[34m 2\n",
      "\u001b[32m 4\u001b[31m 2\u001b[34m 2\u001b[34m 1  \n",
      "    \n",
      "  \u001b[32m 5\n",
      "\u001b[32m 5\u001b[31m 0  \n",
      "    \n",
      "  \u001b[32m 5\u001b[32m 4\n",
      "\u001b[32m 4\u001b[34m 1\u001b[31m 1\n",
      "\u001b[32m 5\u001b[31m 1\u001b[34m 1  \n",
      "    \n",
      "    \n",
      "  \u001b[32m 4\n",
      "\u001b[32m 4\u001b[31m 0  \n",
      "  \u001b[32m 5\u001b[32m 4\u001b[32m 3\n",
      "\u001b[32m 3\u001b[34m 1\u001b[34m 2\u001b[31m 2\n",
      "\u001b[32m 4\u001b[34m 2\u001b[31m 1\u001b[34m 2\n",
      "\u001b[32m 5\u001b[31m 2\u001b[34m 2\u001b[34m 1  \n",
      "    \n",
      "    \n",
      "  \u001b[32m 3\n",
      "\u001b[32m 3\u001b[31m 0  \n",
      "    \n",
      "  \u001b[32m 4\n",
      "\u001b[32m 4\u001b[31m 0  \n",
      "    \n",
      "  \u001b[32m 4\u001b[32m 3\n",
      "\u001b[32m 3\u001b[34m 1\u001b[31m 1\n",
      "\u001b[32m 4\u001b[31m 1\u001b[34m 1  \n",
      "  \u001b[32m 5\u001b[32m 4\u001b[32m 3\u001b[32m 2\n",
      "\u001b[32m 2\u001b[34m 1\u001b[34m 2\u001b[34m 3\u001b[31m 3\n",
      "\u001b[32m 3\u001b[34m 2\u001b[34m 2\u001b[31m 2\u001b[34m 3\n",
      "\u001b[32m 4\u001b[34m 3\u001b[31m 2\u001b[34m 2\u001b[34m 2\n",
      "\u001b[32m 5\u001b[31m 3\u001b[34m 3\u001b[34m 2\u001b[34m 2  \n",
      "  \u001b[32m x\u001b[32m 6\u001b[32m 5\u001b[32m 4\u001b[32m 3\u001b[32m 2\u001b[32m 1\n",
      "\u001b[32m x\u001b[31m 0\u001b[34m 1\u001b[34m 2\u001b[34m 3\u001b[34m 4\u001b[34m 5\u001b[34m 6\n",
      "\u001b[32m 1\u001b[34m 1\u001b[34m 1\u001b[34m 2\u001b[34m 3\u001b[34m 4\u001b[34m 5\u001b[31m 5\n",
      "\u001b[32m 2\u001b[34m 2\u001b[34m 2\u001b[34m 2\u001b[34m 3\u001b[34m 4\u001b[31m 4\u001b[34m 5\n",
      "\u001b[32m 3\u001b[34m 3\u001b[34m 3\u001b[34m 3\u001b[34m 3\u001b[31m 3\u001b[34m 4\u001b[34m 4\n",
      "\u001b[32m 4\u001b[34m 4\u001b[34m 4\u001b[34m 4\u001b[31m 3\u001b[34m 3\u001b[34m 3\u001b[34m 4\n",
      "\u001b[32m 5\u001b[34m 5\u001b[34m 5\u001b[31m 4\u001b[34m 4\u001b[34m 3\u001b[34m 3\u001b[34m 3\n",
      "\u001b[32m 6\u001b[34m 6\u001b[31m 5\u001b[34m 5\u001b[34m 4\u001b[34m 4\u001b[34m 3\u001b[34m 3  \n",
      "    \n",
      "    \n",
      "  \u001b[32m 2\n",
      "\u001b[32m 2\u001b[31m 0  \n",
      "    \n",
      "  \u001b[32m 3\n",
      "\u001b[32m 3\u001b[31m 0  \n",
      "    \n",
      "  \u001b[32m 3\u001b[32m 2\n",
      "\u001b[32m 2\u001b[34m 1\u001b[31m 1\n",
      "\u001b[32m 3\u001b[31m 1\u001b[34m 1  \n",
      "    \n",
      "  \u001b[32m 4\n",
      "\u001b[32m 4\u001b[31m 0  \n",
      "    \n",
      "  \u001b[32m 4\u001b[32m 3\n",
      "\u001b[32m 3\u001b[34m 1\u001b[31m 1\n",
      "\u001b[32m 4\u001b[31m 1\u001b[34m 1  \n",
      "    \n",
      "    \n",
      "  \u001b[32m 3\n",
      "\u001b[32m 3\u001b[31m 0  \n",
      "  \u001b[32m 4\u001b[32m 3\u001b[32m 2\n",
      "\u001b[32m 2\u001b[34m 1\u001b[34m 2\u001b[31m 2\n",
      "\u001b[32m 3\u001b[34m 2\u001b[31m 1\u001b[34m 2\n",
      "\u001b[32m 4\u001b[31m 2\u001b[34m 2\u001b[34m 1  \n",
      "    \n",
      "  \u001b[32m 5\n",
      "\u001b[32m 5\u001b[31m 0  \n",
      "    \n",
      "  \u001b[32m 5\u001b[32m 4\n",
      "\u001b[32m 4\u001b[34m 1\u001b[31m 1\n",
      "\u001b[32m 5\u001b[31m 1\u001b[34m 1  \n",
      "    \n",
      "    \n",
      "  \u001b[32m 4\n",
      "\u001b[32m 4\u001b[31m 0  \n",
      "  \u001b[32m 5\u001b[32m 4\u001b[32m 3\n",
      "\u001b[32m 3\u001b[34m 1\u001b[34m 2\u001b[31m 2\n",
      "\u001b[32m 4\u001b[34m 2\u001b[31m 1\u001b[34m 2\n",
      "\u001b[32m 5\u001b[31m 2\u001b[34m 2\u001b[34m 1  \n",
      "    \n",
      "    \n",
      "  \u001b[32m 3\n",
      "\u001b[32m 3\u001b[31m 0  \n",
      "    \n",
      "  \u001b[32m 4\n",
      "\u001b[32m 4\u001b[31m 0  \n",
      "    \n",
      "  \u001b[32m 4\u001b[32m 3\n",
      "\u001b[32m 3\u001b[34m 1\u001b[31m 1\n",
      "\u001b[32m 4\u001b[31m 1\u001b[34m 1  \n",
      "  \u001b[32m 5\u001b[32m 4\u001b[32m 3\u001b[32m 2\n",
      "\u001b[32m 2\u001b[34m 1\u001b[34m 2\u001b[34m 3\u001b[31m 3\n",
      "\u001b[32m 3\u001b[34m 2\u001b[34m 2\u001b[31m 2\u001b[34m 3\n",
      "\u001b[32m 4\u001b[34m 3\u001b[31m 2\u001b[34m 2\u001b[34m 2\n",
      "\u001b[32m 5\u001b[31m 3\u001b[34m 3\u001b[34m 2\u001b[34m 2  \n",
      "  \u001b[32m x\u001b[32m 6\u001b[32m 5\u001b[32m 4\u001b[32m 3\u001b[32m 2\u001b[32m 1\n",
      "\u001b[32m x\u001b[31m 0\u001b[34m 1\u001b[34m 2\u001b[34m 3\u001b[34m 4\u001b[34m 5\u001b[34m 6\n",
      "\u001b[32m 1\u001b[34m 1\u001b[34m 1\u001b[34m 2\u001b[34m 3\u001b[34m 4\u001b[34m 5\u001b[31m 5\n",
      "\u001b[32m 2\u001b[34m 2\u001b[34m 2\u001b[34m 2\u001b[34m 3\u001b[34m 4\u001b[31m 4\u001b[34m 5\n",
      "\u001b[32m 3\u001b[34m 3\u001b[34m 3\u001b[34m 3\u001b[34m 3\u001b[31m 3\u001b[34m 4\u001b[34m 4\n",
      "\u001b[32m 4\u001b[34m 4\u001b[34m 4\u001b[34m 4\u001b[31m 3\u001b[34m 3\u001b[34m 3\u001b[34m 4\n",
      "\u001b[32m 5\u001b[34m 5\u001b[34m 5\u001b[31m 4\u001b[34m 4\u001b[34m 3\u001b[34m 3\u001b[34m 3\n",
      "\u001b[32m 6\u001b[34m 6\u001b[31m 5\u001b[34m 5\u001b[34m 4\u001b[34m 4\u001b[34m 3\u001b[34m 3  \n",
      "  \u001b[32m x\u001b[32m 6\u001b[32m 5\u001b[32m 4\u001b[32m 3\u001b[32m 2\u001b[32m 1\n",
      "\u001b[32m x\u001b[31m 0\u001b[34m 1\u001b[34m 2\u001b[34m 3\u001b[34m 4\u001b[34m 5\u001b[34m 6\n",
      "\u001b[32m 1\u001b[34m 1\u001b[34m 1\u001b[34m 2\u001b[34m 3\u001b[34m 4\u001b[34m 5\u001b[31m 5\n",
      "\u001b[32m 2\u001b[34m 2\u001b[34m 2\u001b[34m 2\u001b[34m 3\u001b[34m 4\u001b[31m 4\u001b[34m 5\n",
      "\u001b[32m 3\u001b[34m 3\u001b[34m 3\u001b[34m 3\u001b[34m 3\u001b[31m 3\u001b[34m 4\u001b[34m 5\n",
      "\u001b[32m 4\u001b[34m 4\u001b[34m 4\u001b[34m 4\u001b[31m 3\u001b[34m 3\u001b[34m 4\u001b[34m 5\n",
      "\u001b[32m 5\u001b[34m 5\u001b[34m 5\u001b[31m 4\u001b[34m 4\u001b[34m 4\u001b[34m 4\u001b[34m 5\n",
      "\u001b[32m 6\u001b[34m 6\u001b[31m 5\u001b[34m 5\u001b[34m 5\u001b[34m 5\u001b[34m 5\u001b[34m 5  \n",
      "  \u001b[32m x\u001b[32m 6\u001b[32m 5\u001b[32m 4\u001b[32m 3\u001b[32m 2\u001b[32m 1\n",
      "\u001b[32m x\u001b[31m 0\u001b[34m 1\u001b[34m 2\u001b[34m 3\u001b[34m 4\u001b[34m 5\u001b[34m 6\n",
      "\u001b[32m 1\u001b[34m 1\u001b[34m 1\u001b[34m 2\u001b[34m 3\u001b[34m 4\u001b[34m 5\u001b[31m 5\n",
      "\u001b[32m 2\u001b[34m 2\u001b[34m 2\u001b[34m 2\u001b[34m 3\u001b[34m 4\u001b[31m 4\u001b[34m 5\n",
      "\u001b[32m 3\u001b[34m 3\u001b[34m 3\u001b[34m 3\u001b[34m 3\u001b[31m 3\u001b[34m 4\u001b[34m 5\n",
      "\u001b[32m 4\u001b[34m 4\u001b[34m 4\u001b[34m 4\u001b[31m 3\u001b[34m 4\u001b[34m 4\u001b[34m 5\n",
      "\u001b[32m 5\u001b[34m 5\u001b[34m 5\u001b[31m 4\u001b[34m 4\u001b[34m 4\u001b[34m 5\u001b[34m 5\n",
      "\u001b[32m 6\u001b[34m 6\u001b[31m 5\u001b[34m 5\u001b[34m 5\u001b[34m 5\u001b[34m 5\u001b[34m 6  \n"
     ]
    },
    {
     "data": {
      "text/plain": [
       "6"
      ]
     },
     "execution_count": 17,
     "metadata": {},
     "output_type": "execute_result"
    }
   ],
   "source": [
    "DL_parameter('x123456','x654321')\n",
    "DL_parameter_symmetric('x123456','x654321')\n",
    "DL('x123456','x654321')\n",
    "Levenshtain('x123456','x654321')"
   ]
  },
  {
   "cell_type": "code",
   "execution_count": 18,
   "metadata": {},
   "outputs": [
    {
     "name": "stdout",
     "output_type": "stream",
     "text": [
      "    \n",
      "    \n",
      "  \u001b[32m 2\n",
      "\u001b[32m 2\u001b[31m 0  \n",
      "  \u001b[32m 4  \n",
      "  \u001b[32m 4\u001b[32m 3\n",
      "\u001b[32m 3\u001b[34m 1\u001b[31m 1  \n",
      "    \n",
      "  \u001b[32m 4\u001b[32m 3\u001b[32m 2\n",
      "\u001b[32m 2\u001b[34m 1\u001b[34m 2\u001b[31m 2\n",
      "\u001b[32m 3\u001b[34m 2\u001b[31m 1\u001b[34m 2  \n",
      "    \n",
      "  \u001b[32m 5\u001b[32m 4\n",
      "\u001b[32m 5\u001b[31m 0\u001b[34m 1  \n",
      "  \u001b[32m 4  \n",
      "  \u001b[32m 5\u001b[32m 4\u001b[32m 3\n",
      "\u001b[32m 3\u001b[34m 1\u001b[34m 2\u001b[31m 2\n",
      "\u001b[32m 5\u001b[31m 1\u001b[34m 2\u001b[34m 2  \n",
      "    \n",
      "  \u001b[32m 4  \n",
      "  \u001b[32m 4\u001b[32m 3\n",
      "\u001b[32m 3\u001b[34m 1\u001b[31m 1  \n",
      "  \u001b[32m 5\u001b[32m 4\u001b[32m 3\u001b[32m 2\n",
      "\u001b[32m 2\u001b[34m 1\u001b[34m 2\u001b[34m 3\u001b[31m 3\n",
      "\u001b[32m 3\u001b[34m 2\u001b[34m 2\u001b[31m 2\u001b[34m 3\n",
      "\u001b[32m 5\u001b[31m 2\u001b[34m 3\u001b[34m 3\u001b[34m 2  \n",
      "  \u001b[32m x\u001b[32m 6\u001b[32m 5\u001b[32m 4\u001b[32m 3\u001b[32m 2\u001b[32m 1\n",
      "\u001b[32m x\u001b[31m 0\u001b[34m 1\u001b[34m 2\u001b[34m 3\u001b[34m 4\u001b[34m 5\u001b[34m 6\n",
      "\u001b[32m 1\u001b[34m 1\u001b[34m 1\u001b[34m 2\u001b[34m 3\u001b[34m 4\u001b[34m 5\u001b[31m 5\n",
      "\u001b[32m 2\u001b[34m 2\u001b[34m 2\u001b[34m 2\u001b[34m 3\u001b[34m 4\u001b[31m 4\u001b[34m 5\n",
      "\u001b[32m 3\u001b[34m 3\u001b[34m 3\u001b[34m 3\u001b[34m 3\u001b[31m 3\u001b[34m 4\u001b[34m 4\n",
      "\u001b[32m 5\u001b[34m 4\u001b[34m 4\u001b[31m 3\u001b[34m 4\u001b[34m 4\u001b[34m 3\u001b[34m 4\n",
      "\u001b[32m 6\u001b[34m 5\u001b[31m 4\u001b[34m 4\u001b[34m 4\u001b[34m 4\u001b[34m 4\u001b[34m 3  \n",
      "    \n",
      "    \n",
      "  \u001b[32m 2\n",
      "\u001b[32m 2\u001b[31m 0  \n",
      "    \n",
      "  \u001b[32m x\u001b[32m 6\u001b[32m 5\u001b[32m 4\u001b[32m 3\u001b[32m 2\u001b[32m 1\n",
      "\u001b[32m x\u001b[31m 0\u001b[34m 1\u001b[34m 2\u001b[34m 3\u001b[34m 4\u001b[34m 5\u001b[34m 6\n",
      "\u001b[32m 1\u001b[34m 1\u001b[34m 1\u001b[34m 2\u001b[34m 3\u001b[34m 4\u001b[34m 5\u001b[31m 5\n",
      "\u001b[32m 2\u001b[34m 2\u001b[34m 2\u001b[34m 2\u001b[34m 3\u001b[34m 4\u001b[31m 4\u001b[34m 5\n",
      "\u001b[32m 3\u001b[34m 3\u001b[34m 3\u001b[34m 3\u001b[34m 3\u001b[31m 3\u001b[34m 4\u001b[34m 4\n",
      "\u001b[32m 5\u001b[34m 4\u001b[34m 4\u001b[31m 3\u001b[34m 4\u001b[34m 4\u001b[34m 4\u001b[34m 5\n",
      "\u001b[32m 6\u001b[34m 5\u001b[31m 4\u001b[34m 4\u001b[34m 4\u001b[34m 5\u001b[34m 5\u001b[34m 5  \n",
      "  \u001b[32m x\u001b[32m 6\u001b[32m 5\u001b[32m 4\u001b[32m 3\u001b[32m 2\u001b[32m 1\n",
      "\u001b[32m x\u001b[31m 0\u001b[34m 1\u001b[34m 2\u001b[34m 3\u001b[34m 4\u001b[34m 5\u001b[34m 6\n",
      "\u001b[32m 1\u001b[34m 1\u001b[34m 1\u001b[34m 2\u001b[34m 3\u001b[34m 4\u001b[34m 5\u001b[31m 5\n",
      "\u001b[32m 2\u001b[34m 2\u001b[34m 2\u001b[34m 2\u001b[34m 3\u001b[34m 4\u001b[31m 4\u001b[34m 5\n",
      "\u001b[32m 3\u001b[34m 3\u001b[34m 3\u001b[34m 3\u001b[34m 3\u001b[31m 3\u001b[34m 4\u001b[34m 5\n",
      "\u001b[32m 5\u001b[34m 4\u001b[34m 4\u001b[31m 3\u001b[34m 4\u001b[34m 4\u001b[34m 4\u001b[34m 5\n",
      "\u001b[32m 6\u001b[34m 5\u001b[31m 4\u001b[34m 4\u001b[34m 4\u001b[34m 5\u001b[34m 5\u001b[34m 5  \n",
      "  \u001b[32m x\u001b[32m 6\u001b[32m 5\u001b[32m 4\u001b[32m 3\u001b[32m 2\u001b[32m 1\n",
      "\u001b[32m x\u001b[31m 0\u001b[34m 1\u001b[34m 2\u001b[34m 3\u001b[34m 4\u001b[34m 5\u001b[34m 6\n",
      "\u001b[32m 1\u001b[34m 1\u001b[34m 1\u001b[34m 2\u001b[34m 3\u001b[34m 4\u001b[34m 5\u001b[31m 5\n",
      "\u001b[32m 2\u001b[34m 2\u001b[34m 2\u001b[34m 2\u001b[34m 3\u001b[34m 4\u001b[31m 4\u001b[34m 5\n",
      "\u001b[32m 3\u001b[34m 3\u001b[34m 3\u001b[34m 3\u001b[34m 3\u001b[31m 3\u001b[34m 4\u001b[34m 5\n",
      "\u001b[32m 5\u001b[34m 4\u001b[34m 4\u001b[31m 3\u001b[34m 4\u001b[34m 4\u001b[34m 4\u001b[34m 5\n",
      "\u001b[32m 6\u001b[34m 5\u001b[31m 4\u001b[34m 4\u001b[34m 4\u001b[34m 5\u001b[34m 5\u001b[34m 5  \n"
     ]
    },
    {
     "data": {
      "text/plain": [
       "5"
      ]
     },
     "execution_count": 18,
     "metadata": {},
     "output_type": "execute_result"
    }
   ],
   "source": [
    "DL_parameter('x12356','x654321')\n",
    "DL_parameter_symmetric('x12356','x654321')\n",
    "DL('x12356','x654321')\n",
    "Levenshtain('x12356','x654321')"
   ]
  },
  {
   "cell_type": "code",
   "execution_count": null,
   "metadata": {},
   "outputs": [],
   "source": []
  },
  {
   "cell_type": "code",
   "execution_count": null,
   "metadata": {},
   "outputs": [],
   "source": []
  },
  {
   "cell_type": "code",
   "execution_count": null,
   "metadata": {},
   "outputs": [],
   "source": []
  },
  {
   "cell_type": "code",
   "execution_count": null,
   "metadata": {},
   "outputs": [],
   "source": []
  },
  {
   "cell_type": "code",
   "execution_count": null,
   "metadata": {},
   "outputs": [],
   "source": []
  },
  {
   "cell_type": "code",
   "execution_count": null,
   "metadata": {},
   "outputs": [],
   "source": []
  }
 ],
 "metadata": {
  "kernelspec": {
   "display_name": "Python 3",
   "language": "python",
   "name": "python3"
  },
  "language_info": {
   "codemirror_mode": {
    "name": "ipython",
    "version": 3
   },
   "file_extension": ".py",
   "mimetype": "text/x-python",
   "name": "python",
   "nbconvert_exporter": "python",
   "pygments_lexer": "ipython3",
   "version": "3.8.5"
  }
 },
 "nbformat": 4,
 "nbformat_minor": 4
}
