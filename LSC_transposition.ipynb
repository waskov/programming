{
 "cells": [
  {
   "cell_type": "code",
   "execution_count": 23,
   "metadata": {},
   "outputs": [],
   "source": [
    "import numpy as fp\n",
    "import pandas as pd\n",
    "import matplotlib.pyplot as plt\n",
    "import seaborn as sns\n",
    "from typing import Optional\n",
    "\n",
    "def LCS_ch(\n",
    "            string1: str,\n",
    "            string2: str,\n",
    "                 a: int = 10,\n",
    "                 b: Optional[int] = None):    \n",
    "    if b is None:\n",
    "        b = a\n",
    "    \n",
    "    lenstr1 = len(string1)\n",
    "    lenstr2 = len(string2)\n",
    "    F = [[0] * (lenstr2 + 1) for i in range(lenstr1 + 1)]\n",
    "    \n",
    "    for i in range(lenstr1):\n",
    "        for j in range(lenstr2):\n",
    "            if string1[i] == string2[j]:\n",
    "                F[i+1][j+1] = F[i][j] + 1 \n",
    "            else: \n",
    "                F[i+1][j+1] = max(F[i][j+1], F[i+1][j]) \n",
    "       \n",
    "             # transposition_1    \n",
    "            \n",
    "            for a in range(1,a+1):\n",
    "                if j > a-1 and string1[i] == string2[j-a]:  \n",
    "                    for b in range(1,b+1):\n",
    "                        if i > b-1 and string2[j] == string1[i-b]:\n",
    "                            distance = LCS_ch(string1[i-b+1:i], string2[j-a+1:j], a, b)  # call recursive\n",
    "                            print('str1:', string1[i-b+1:i], 'str2', string2[j-a+1:j])\n",
    "                            print(a,i,j,string1[i],string2[j-a], string2[j],string1[i-b])\n",
    "                            F[i+1][j+1] = max (F[i+1][j+1], F[i-b][j-a] + 2 + distance)\n",
    "                            \n",
    "                            \n",
    "            \n",
    "            \n",
    "            \n",
    "    \n",
    "    \n",
    "    return(F[lenstr1][lenstr2])\n"
   ]
  },
  {
   "cell_type": "code",
   "execution_count": 24,
   "metadata": {},
   "outputs": [
    {
     "name": "stdout",
     "output_type": "stream",
     "text": [
      "str1:  str2 \n",
      "1 2 3 0 0 2 2\n",
      "str1:  str2 \n",
      "1 3 2 4 4 0 0\n",
      "str1: 0 str2 0\n",
      "2 3 3 4 4 2 2\n",
      "4\n"
     ]
    }
   ],
   "source": [
    "print(LCS_ch('1204', '1402'))"
   ]
  },
  {
   "cell_type": "code",
   "execution_count": 25,
   "metadata": {},
   "outputs": [],
   "source": [
    "def LCS(A,B):\n",
    "    n = len(A)\n",
    "    m = len(B)\n",
    "    F = [[0] * (m + 1) for i in range(n + 1)]\n",
    "    for i in range(1, n + 1):\n",
    "        for j in range(1, m + 1):\n",
    "            if A[i - 1] == B[j - 1]:\n",
    "                F[i][j] = F[i - 1][j - 1] + 1 \n",
    "            else: \n",
    "                F[i][j] = max(F[i - 1][j], F[i][j - 1]) \n",
    "    print(F[n][m])\n",
    "\n",
    "    Ans = []\n",
    "    i = n\n",
    "    j = m\n",
    "    while i > 0 and j > 0:\n",
    "        if A[i - 1] == B[j - 1]:\n",
    "            Ans.append(A[i - 1])\n",
    "            i -= 1\n",
    "            j -= 1\n",
    "        elif F[i - 1][j] == F[i][j]:\n",
    "            i -= 1 \n",
    "        else: \n",
    "            j -= 1\n",
    "     \n",
    "    Ans = Ans[::-1]\n",
    "    return(Ans)\n",
    "    "
   ]
  },
  {
   "cell_type": "code",
   "execution_count": 26,
   "metadata": {},
   "outputs": [
    {
     "name": "stdout",
     "output_type": "stream",
     "text": [
      "2\n",
      "['1', '2']\n"
     ]
    }
   ],
   "source": [
    "print(LCS('1204', '1402'))"
   ]
  },
  {
   "cell_type": "code",
   "execution_count": 34,
   "metadata": {},
   "outputs": [],
   "source": [
    "import numpy as np\n",
    "def LCS_ch_1element(A,B):\n",
    "\n",
    "\n",
    "    n = len(A)\n",
    "    m = len(B)\n",
    "    F = [[0] * (m + 1) for i in range(n + 1)]\n",
    "    for i in range(1, n + 1):\n",
    "        for j in range(1, m + 1):\n",
    "            if A[i - 1] == B[j - 1]:\n",
    "                F[i][j] = F[i - 1][j - 1] + 1 \n",
    "                \n",
    "                \n",
    "                \n",
    "            elif i>1 and j>1 and A[i-1]==B[j-2] and A[i-2] == B[j-1]:\n",
    "                F[i][j] = F[i-2][j-2] + 2 # transposition\n",
    "                \n",
    "\n",
    "            else: \n",
    "                F[i][j] = max(F[i - 1][j], F[i][j - 1]) \n",
    "    print(F[n][m])\n",
    "    print(np.matrix(F))\n",
    "\n",
    "    Ans = []\n",
    "    i = n\n",
    "    j = m\n",
    "    while i > 0 and j > 0:\n",
    "        if A[i - 1] == B[j - 1]:\n",
    "            #print(Ans)\n",
    "            Ans.append(A[i - 1])\n",
    "            i -= 1\n",
    "            j -= 1\n",
    "        elif A[i-1]==B[j-2] and A[i-2] == B[j-1]:\n",
    "            Ans.append(A[i - 1])# transposition\n",
    "            i -= 1\n",
    "        elif F[i - 1][j] == F[i][j]:\n",
    "            i -= 1 \n",
    "        else: \n",
    "            j -= 1\n",
    "     \n",
    "    Ans = Ans[::-1]\n",
    "    return(Ans)"
   ]
  },
  {
   "cell_type": "code",
   "execution_count": 35,
   "metadata": {},
   "outputs": [
    {
     "name": "stdout",
     "output_type": "stream",
     "text": [
      "3\n",
      "[[0 0 0 0 0]\n",
      " [0 1 1 1 1]\n",
      " [0 1 1 1 2]\n",
      " [0 1 1 2 3]\n",
      " [0 1 2 3 3]]\n",
      "['1', '2', '0']\n"
     ]
    }
   ],
   "source": [
    "print(LCS_ch_1element('1204', '1402'))"
   ]
  },
  {
   "cell_type": "code",
   "execution_count": null,
   "metadata": {},
   "outputs": [],
   "source": []
  }
 ],
 "metadata": {
  "kernelspec": {
   "display_name": "Python 3",
   "language": "python",
   "name": "python3"
  },
  "language_info": {
   "codemirror_mode": {
    "name": "ipython",
    "version": 3
   },
   "file_extension": ".py",
   "mimetype": "text/x-python",
   "name": "python",
   "nbconvert_exporter": "python",
   "pygments_lexer": "ipython3",
   "version": "3.8.5"
  }
 },
 "nbformat": 4,
 "nbformat_minor": 4
}
